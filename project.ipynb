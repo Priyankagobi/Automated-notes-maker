{
 "cells": [
  {
   "cell_type": "code",
   "execution_count": 19,
   "id": "9cee154b",
   "metadata": {},
   "outputs": [],
   "source": [
    "#Importing necessary packages\n",
    "import speech_recognition as sr\n",
    "import pyttsx3 as py"
   ]
  },
  {
   "cell_type": "code",
   "execution_count": 20,
   "id": "59f0da6c",
   "metadata": {},
   "outputs": [],
   "source": [
    "#Declaring r\n",
    "\n",
    "r = sr.Recognizer()\n",
    "\n",
    "#Defining SpeakText \n",
    "\n",
    "def SpeakText(command):\n",
    "    engine = py.init()\n",
    "    engine.say(command)\n",
    "    engine.runAndWait()\n",
    "#Whatever printed inside the paranthesis will be voiced     \n",
    "SpeakText(\"This is our voice recognition project\")    "
   ]
  },
  {
   "cell_type": "code",
   "execution_count": 21,
   "id": "ace3b569",
   "metadata": {},
   "outputs": [
    {
     "name": "stdout",
     "output_type": "stream",
     "text": [
      "Silence please, calibrating background noise\n",
      "Calibrated, now speak...\n",
      "i like you\n"
     ]
    }
   ],
   "source": [
    "#Making our microphone as a source\n",
    "with sr.Microphone() as source2:\n",
    "    print(\"Silence please, calibrating background noise\")\n",
    "    r.adjust_for_ambient_noise(source2, duration=3)\n",
    "    print(\"Calibrated, now speak...\")\n",
    "    \n",
    "#Whatever the sentence we say will be listened by the microphone and it will recognise    \n",
    "    \n",
    "    audio2 = r.listen(source2)\n",
    "    \n",
    "    MyText = r.recognize_google(audio2)\n",
    "    MyText = MyText.lower()\n",
    "    print(MyText)"
   ]
  },
  {
   "cell_type": "code",
   "execution_count": 22,
   "id": "205fa07d",
   "metadata": {},
   "outputs": [],
   "source": [
    "#If we want to hear what we said, we can run this cell\n",
    "SpeakText(MyText)"
   ]
  },
  {
   "cell_type": "code",
   "execution_count": 23,
   "id": "c5079a91",
   "metadata": {},
   "outputs": [],
   "source": [
    "from fpdf import FPDF"
   ]
  },
  {
   "cell_type": "code",
   "execution_count": 24,
   "id": "6c9de5ec",
   "metadata": {},
   "outputs": [],
   "source": [
    "class PDF(FPDF):\n",
    "     pass"
   ]
  },
  {
   "cell_type": "code",
   "execution_count": 25,
   "id": "ce429a1d",
   "metadata": {},
   "outputs": [],
   "source": [
    "pdf = PDF()\n",
    "pdf = PDF(orientation='P', unit='mm', format='A4')"
   ]
  },
  {
   "cell_type": "code",
   "execution_count": 26,
   "id": "4d225397",
   "metadata": {},
   "outputs": [],
   "source": [
    "class PDF(FPDF):\n",
    "    def lines(self):\n",
    "        self.set_line_width(0.0)\n",
    "        self.line(5.0,5.0,205.0,5.0) \n",
    "        self.line(5.0,292.0,205.0,292.0) \n",
    "        self.line(5.0,5.0,5.0,292.0) \n",
    "        self.line(205.0,5.0,205.0,292.0)"
   ]
  },
  {
   "cell_type": "code",
   "execution_count": 27,
   "id": "9765f7a4",
   "metadata": {},
   "outputs": [],
   "source": [
    "f= open(\"project.txt\",\"w+\")"
   ]
  },
  {
   "cell_type": "code",
   "execution_count": 28,
   "id": "91853741",
   "metadata": {},
   "outputs": [
    {
     "data": {
      "text/plain": [
       "10"
      ]
     },
     "execution_count": 28,
     "metadata": {},
     "output_type": "execute_result"
    }
   ],
   "source": [
    "f.write(MyText)"
   ]
  },
  {
   "cell_type": "code",
   "execution_count": 29,
   "id": "58a5e5ff",
   "metadata": {},
   "outputs": [],
   "source": [
    "f.close()"
   ]
  },
  {
   "cell_type": "code",
   "execution_count": 30,
   "id": "2ac3446f",
   "metadata": {},
   "outputs": [
    {
     "data": {
      "text/plain": [
       "''"
      ]
     },
     "execution_count": 30,
     "metadata": {},
     "output_type": "execute_result"
    }
   ],
   "source": [
    "# save FPDF() class into \n",
    "# a variable pdf\n",
    "pdf = FPDF()   \n",
    "pdf = PDF(orientation='P', unit='mm', format='A4')   \n",
    "# Add a page\n",
    "pdf.add_page()\n",
    "   \n",
    "# set style and size of font \n",
    "# that you want in the pdf\n",
    "pdf.set_font(\"Arial\", size = 15)\n",
    "  \n",
    "# open the text file in read mode\n",
    "f = open(\"project.txt\", \"r\")\n",
    "  \n",
    "# insert the texts in pdf\n",
    "for x in f:\n",
    "    pdf.cell(200, 10, txt = x, ln = 1, align = 'C')\n",
    "   \n",
    "# save the pdf with name .pdf\n",
    "pdf.output(\"hello.pdf\")"
   ]
  },
  {
   "cell_type": "code",
   "execution_count": null,
   "id": "27c1d57e",
   "metadata": {},
   "outputs": [],
   "source": [
    "\n"
   ]
  }
 ],
 "metadata": {
  "kernelspec": {
   "display_name": "Python 3",
   "language": "python",
   "name": "python3"
  },
  "language_info": {
   "codemirror_mode": {
    "name": "ipython",
    "version": 3
   },
   "file_extension": ".py",
   "mimetype": "text/x-python",
   "name": "python",
   "nbconvert_exporter": "python",
   "pygments_lexer": "ipython3",
   "version": "3.9.1"
  }
 },
 "nbformat": 4,
 "nbformat_minor": 5
}
